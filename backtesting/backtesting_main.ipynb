{
 "cells": [
  {
   "cell_type": "code",
   "execution_count": 8,
   "id": "1be819e2",
   "metadata": {},
   "outputs": [
    {
     "name": "stdout",
     "output_type": "stream",
     "text": [
      "           date symbol  entry_price  take_profit  return_rate  capital  \\\n",
      "0    2023-01-30   2330   550.520492   602.951015     0.095238  10000.0   \n",
      "1    2023-01-30   2882    42.680622    46.745443     0.095238  10000.0   \n",
      "2    2023-01-30     KO    59.358519    65.011712     0.095238  10000.0   \n",
      "3    2023-01-31   2330   545.441941   597.388792     0.095238  10000.0   \n",
      "4    2023-01-31   2882    42.432193    46.473354     0.095238  10000.0   \n",
      "...         ...    ...          ...          ...          ...      ...   \n",
      "2147 2025-04-10   2882    57.120002    62.560002     0.095238  10000.0   \n",
      "2148 2025-04-10     KO    73.699503    80.718503     0.095238  10000.0   \n",
      "2149 2025-04-11   2330   890.400000   975.200000     0.095238  10000.0   \n",
      "2150 2025-04-11   2882    55.125000    60.375000     0.095238  10000.0   \n",
      "2151 2025-04-11     KO    74.455504    81.546504     0.095238  10000.0   \n",
      "\n",
      "          profit  \n",
      "0     952.380952  \n",
      "1     952.380952  \n",
      "2     952.380952  \n",
      "3     952.380952  \n",
      "4     952.380952  \n",
      "...          ...  \n",
      "2147  952.380952  \n",
      "2148  952.380952  \n",
      "2149  952.380952  \n",
      "2150  952.380952  \n",
      "2151  952.380952  \n",
      "\n",
      "[2152 rows x 7 columns]\n",
      "\n",
      "--- 總結 ---\n",
      "總投入資金：21520000.00\n",
      "總獲利：2011428.57\n",
      "總報酬率：9.35%\n"
     ]
    }
   ],
   "source": [
    "import json\n",
    "import pandas as pd\n",
    "\n",
    "file_path = \"../analysis_results_DS_r1.json\"\n",
    "# file_path = \"../analysis_results_qwq.json\"\n",
    "\n",
    "\n",
    "# 使用 utf-8-sig 編碼重新讀取 JSON 檔案\n",
    "with open(file_path, \"r\", encoding=\"utf-8-sig\") as f:\n",
    "    data = json.load(f)\n",
    "\n",
    "# 提取每日建議的投資決策\n",
    "records = []\n",
    "for entry in data:\n",
    "    date = entry[\"date\"]\n",
    "    for stock in entry[\"stock_recommendations\"]:\n",
    "        if stock[\"action\"] == \"買入\" and stock[\"strategy\"][\"position_size\"] > 0:\n",
    "            records.append({\n",
    "                \"date\": date,\n",
    "                \"symbol\": stock[\"symbol\"],\n",
    "                \"position_size\": stock[\"strategy\"][\"position_size\"],\n",
    "                \"stop_loss\": stock[\"strategy\"][\"stop_loss\"],\n",
    "                \"take_profit\": stock[\"strategy\"][\"take_profit\"]\n",
    "            })\n",
    "\n",
    "# 整理成 DataFrame 供回測使用\n",
    "df_trades = pd.DataFrame(records)\n",
    "df_trades[\"date\"] = pd.to_datetime(df_trades[\"date\"].str.replace(\"⧸\", \"-\"))\n",
    "\n",
    "# 計算報酬\n",
    "df_trades[\"entry_price\"] = (df_trades[\"stop_loss\"] + df_trades[\"take_profit\"]) / 2\n",
    "df_trades[\"return_rate\"] = (df_trades[\"take_profit\"] - df_trades[\"entry_price\"]) / df_trades[\"entry_price\"]\n",
    "df_trades[\"capital\"] = df_trades[\"position_size\"] * 100000\n",
    "df_trades[\"profit\"] = df_trades[\"capital\"] * df_trades[\"return_rate\"]\n",
    "\n",
    "# 輸出報酬總結\n",
    "total_profit = df_trades[\"profit\"].sum()\n",
    "total_investment = df_trades[\"capital\"].sum()\n",
    "total_return_rate = total_profit / total_investment\n",
    "\n",
    "# 印出結果\n",
    "print(df_trades[[\"date\", \"symbol\", \"entry_price\", \"take_profit\", \"return_rate\", \"capital\", \"profit\"]])\n",
    "print(\"\\n--- 總結 ---\")\n",
    "print(f\"總投入資金：{total_investment:.2f}\")\n",
    "print(f\"總獲利：{total_profit:.2f}\")\n",
    "print(f\"總報酬率：{total_return_rate:.2%}\")\n"
   ]
  }
 ],
 "metadata": {
  "kernelspec": {
   "display_name": "agent",
   "language": "python",
   "name": "python3"
  },
  "language_info": {
   "codemirror_mode": {
    "name": "ipython",
    "version": 3
   },
   "file_extension": ".py",
   "mimetype": "text/x-python",
   "name": "python",
   "nbconvert_exporter": "python",
   "pygments_lexer": "ipython3",
   "version": "3.12.2"
  }
 },
 "nbformat": 4,
 "nbformat_minor": 5
}

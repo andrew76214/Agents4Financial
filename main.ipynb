{
 "cells": [
  {
   "cell_type": "code",
   "execution_count": null,
   "metadata": {},
   "outputs": [],
   "source": [
    "from data_downloader import Video_Downloader\n",
    "\n",
    "# 範例：使用指定頻道的直播列表 URL\n",
    "channel_url = \"https://www.youtube.com/@yutinghaofinance/streams\"\n",
    "downloader = Video_Downloader(channel_url, \n",
    "                              output_file=\"data/yutinghao_finance_videos.csv\", \n",
    "                              max_videos=10000)\n",
    "downloader.run()"
   ]
  }
 ],
 "metadata": {
  "kernelspec": {
   "display_name": "youtube",
   "language": "python",
   "name": "python3"
  },
  "language_info": {
   "codemirror_mode": {
    "name": "ipython",
    "version": 3
   },
   "file_extension": ".py",
   "mimetype": "text/x-python",
   "name": "python",
   "nbconvert_exporter": "python",
   "pygments_lexer": "ipython3",
   "version": "3.12.8"
  }
 },
 "nbformat": 4,
 "nbformat_minor": 2
}

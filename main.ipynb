{
 "cells": [
  {
   "cell_type": "code",
   "execution_count": null,
   "metadata": {},
   "outputs": [],
   "source": [
    "import os\n",
    "os.environ[\"CUDA_VISIBLE_DEVICES\"] = \"0,1\"\n",
    "\n",
    "from data_downloader_parallel import Video_Downloader_With_Whisper\n",
    "\n",
    "# 範例：使用指定頻道的直播列表 URL\n",
    "channel_url = \"https://www.youtube.com/@yutinghaofinance/streams\"\n",
    "downloader = Video_Downloader_With_Whisper(channel_url, \n",
    "                                           output_file=\"data/yutinghao_finance_videos.csv\", \n",
    "                                           max_videos=10000)\n",
    "downloader.run()"
   ]
  },
  {
   "cell_type": "code",
   "execution_count": null,
   "metadata": {},
   "outputs": [],
   "source": [
    "'''from data_downloader import Video_Downloader_With_Whisper\n",
    "\n",
    "# 範例：使用指定頻道的直播列表 URL\n",
    "channel_url = \"https://www.youtube.com/@yutinghaofinance/streams\"\n",
    "downloader = Video_Downloader_With_Whisper(channel_url, \n",
    "                                           output_file=\"data/yutinghao_finance_videos.csv\", \n",
    "                                           max_videos=10000)\n",
    "downloader.run()'''"
   ]
  },
  {
   "cell_type": "code",
   "execution_count": null,
   "metadata": {},
   "outputs": [],
   "source": [
    "from youtube_transcript_api import YouTubeTranscriptApi\n",
    "\n",
    "def download_transcript(video_id):\n",
    "    try:\n",
    "        transcript_data = YouTubeTranscriptApi.get_transcript(video_id, languages=['en', 'zh-TW'])\n",
    "        transcript_text = \" \".join([seg['text'] for seg in transcript_data])\n",
    "        return transcript_text\n",
    "    except Exception as e:\n",
    "        print(f\"無法取得影片 {video_id} 的逐字稿: {e}\")\n",
    "        return \"\"\n",
    "    \n",
    "download_transcript(\"LsOE8ZlLG0k?si=v6BG0fSiEPP53EGj\")"
   ]
  }
 ],
 "metadata": {
  "kernelspec": {
   "display_name": "youtube",
   "language": "python",
   "name": "python3"
  },
  "language_info": {
   "codemirror_mode": {
    "name": "ipython",
    "version": 3
   },
   "file_extension": ".py",
   "mimetype": "text/x-python",
   "name": "python",
   "nbconvert_exporter": "python",
   "pygments_lexer": "ipython3",
   "version": "3.12.8"
  }
 },
 "nbformat": 4,
 "nbformat_minor": 2
}
